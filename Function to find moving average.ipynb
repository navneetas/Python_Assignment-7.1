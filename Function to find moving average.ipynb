{
 "cells": [
  {
   "cell_type": "code",
   "execution_count": 8,
   "metadata": {},
   "outputs": [
    {
     "name": "stdout",
     "output_type": "stream",
     "text": [
      "[  5.           4.66666667   5.66666667   6.66666667   9.66666667\n",
      "  28.66666667  49.33333333  72.66666667  84.          93.33333333\n",
      " 116.33333333]\n"
     ]
    }
   ],
   "source": [
    "import numpy as np\n",
    "from numpy import convolve\n",
    "\n",
    "def moving_avg(values, window):\n",
    "    weights = np.repeat(1, window)/window\n",
    "    y = np.convolve(values, weights, 'valid')\n",
    "    return y\n",
    "\n",
    "# To test the function with the the given data over a window of 3. The result will have n-k+1 = 13-3+1= 11 values\n",
    "\n",
    "x= [3,5,7,2,8,10,11,65,72,81,99,100,150]\n",
    "\n",
    "m_avg = moving_avg(x,3)\n",
    "print (m_avg)"
   ]
  },
  {
   "cell_type": "code",
   "execution_count": null,
   "metadata": {},
   "outputs": [],
   "source": []
  }
 ],
 "metadata": {
  "kernelspec": {
   "display_name": "Python 3",
   "language": "python",
   "name": "python3"
  },
  "language_info": {
   "codemirror_mode": {
    "name": "ipython",
    "version": 3
   },
   "file_extension": ".py",
   "mimetype": "text/x-python",
   "name": "python",
   "nbconvert_exporter": "python",
   "pygments_lexer": "ipython3",
   "version": "3.6.4"
  }
 },
 "nbformat": 4,
 "nbformat_minor": 2
}
